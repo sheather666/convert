{
 "cells": [
  {
   "cell_type": "code",
   "execution_count": 1,
   "id": "cb2d3572",
   "metadata": {},
   "outputs": [],
   "source": [
    "import random\n",
    "import string"
   ]
  },
  {
   "cell_type": "code",
   "execution_count": 2,
   "id": "0ffd9aca",
   "metadata": {},
   "outputs": [],
   "source": [
    "def gen_key(length, simbols = string.ascii_letters + string.digits):\n",
    "    return ''.join(random.choice(simbols) for i in range(length))\n",
    "def gamming(text, key):\n",
    "    text_conv = [ord(i) for i in text]\n",
    "    key_conv = [ord(i) for i in key]\n",
    "    return ''.join(chr(a^b) for a, b in zip(text_conv, key_conv))"
   ]
  },
  {
   "cell_type": "code",
   "execution_count": 4,
   "id": "3e0673b8",
   "metadata": {},
   "outputs": [
    {
     "name": "stdout",
     "output_type": "stream",
     "text": [
      "Шифротекст имеет вид: ѐaіњљЪwфѮѿќщGYјЇЧѦпЊV\n"
     ]
    }
   ],
   "source": [
    "text = \"С Новым Годом, друзья!\"\n",
    "key = gen_key(len(text))\n",
    "text_shifr = gamming(text, key)\n",
    "print (\"Шифротекст имеет вид:\", text_shifr)"
   ]
  },
  {
   "cell_type": "code",
   "execution_count": 5,
   "id": "4f929b81",
   "metadata": {},
   "outputs": [
    {
     "data": {
      "text/plain": [
       "'С Новы Годом, друзья!'"
      ]
     },
     "execution_count": 5,
     "metadata": {},
     "output_type": "execute_result"
    }
   ],
   "source": [
    "gamming(gamming(text, key), key)"
   ]
  },
  {
   "cell_type": "code",
   "execution_count": 6,
   "id": "8c9021eb",
   "metadata": {},
   "outputs": [
    {
     "name": "stdout",
     "output_type": "stream",
     "text": [
      "Расшифрованный текст: Й+ЗЍЁѣ#ѱДЩѨЯ\u001c",
      "аѨѭГѴѹ\u0003\n"
     ]
    }
   ],
   "source": [
    "key_2 = gen_key (len(text))\n",
    "text_2 = gamming(text_shifr, key_2)\n",
    "print (\"Расшифрованный текст:\" , text_2)"
   ]
  }
 ],
 "metadata": {
  "kernelspec": {
   "display_name": "Python 3",
   "language": "python",
   "name": "python3"
  },
  "language_info": {
   "codemirror_mode": {
    "name": "ipython",
    "version": 3
   },
   "file_extension": ".py",
   "mimetype": "text/x-python",
   "name": "python",
   "nbconvert_exporter": "python",
   "pygments_lexer": "ipython3",
   "version": "3.8.8"
  }
 },
 "nbformat": 4,
 "nbformat_minor": 5
}
