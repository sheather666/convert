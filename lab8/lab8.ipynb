{
 "cells": [
  {
   "cell_type": "code",
   "execution_count": 1,
   "id": "50a51e63",
   "metadata": {},
   "outputs": [],
   "source": [
    "import numpy as np\n",
    "import operator as op \n",
    "import sys"
   ]
  },
  {
   "cell_type": "code",
   "execution_count": 2,
   "id": "e3d29e4a",
   "metadata": {},
   "outputs": [
    {
     "name": "stdout",
     "output_type": "stream",
     "text": [
      "12 12\n"
     ]
    }
   ],
   "source": [
    "p1 = \"Первый текст\"\n",
    "p2 = \"Второй текст\"\n",
    "print(len(p1), len(p2))"
   ]
  },
  {
   "cell_type": "code",
   "execution_count": 10,
   "id": "1cc10d8f",
   "metadata": {},
   "outputs": [],
   "source": [
    "def encrypt(text1, text2):\n",
    "    print(\"text1: \", text1)\n",
    "    newtext1 = []\n",
    "    for i in text1:\n",
    "        newtext1.append(i.encode(\"cp1251\").hex())\n",
    "    print(\"text1 in 16:\", newtext1)\n",
    "    print(\"text2: \", text2)\n",
    "    newtext2 = []\n",
    "    for i in text2:\n",
    "        newtext2.append(i.encode(\"cp1251\").hex())\n",
    "    print(\"text2 in 16:\", newtext2)\n",
    "    \n",
    "    r = np.random.randint(0,255, len(text1))\n",
    "    key=[hex(i)[2:] for i in r]\n",
    "    newkey = []\n",
    "    for i in key:\n",
    "        newkey.append(i.encode(\"cp1251\").hex().upper())\n",
    "    print(\"key in 16: \", key)\n",
    "    xortext1=[]\n",
    "    for i in range(len(newtext1)):\n",
    "        xortext1.append(\"{:02x}\".format(int(key[i], 16) ^ int(newtext1[i],16)))\n",
    "    print(\"cypher text1 in 16: \", xortext1)\n",
    "    en_text1=bytearray.fromhex(\"\".join(xortext1)).decode(\"cp1251\")\n",
    "    print(\"cypher text1: \", en_text1)\n",
    "    xortext2=[]\n",
    "    for i in range(len(newtext2)):\n",
    "        xortext2.append(\"{:02x}\".format(int(key[i], 16) ^ int(newtext2[i],16)))\n",
    "    print(\"cypher text2 in 16: \", xortext2)\n",
    "    en_text2=bytearray.fromhex(\"\".join(xortext2)).decode(\"cp1251\")\n",
    "    print(\"cypher text2: \", en_text2)\n",
    "    return key, xortext1, en_text1, xortext2, en_text2"
   ]
  },
  {
   "cell_type": "code",
   "execution_count": 11,
   "id": "61b4d917",
   "metadata": {},
   "outputs": [
    {
     "name": "stdout",
     "output_type": "stream",
     "text": [
      "text1:  Первый текст\n",
      "text1 in 16: ['cf', 'e5', 'f0', 'e2', 'fb', 'e9', '20', 'f2', 'e5', 'ea', 'f1', 'f2']\n",
      "text2:  Второй текст\n",
      "text2 in 16: ['c2', 'f2', 'ee', 'f0', 'ee', 'e9', '20', 'f2', 'e5', 'ea', 'f1', 'f2']\n",
      "key in 16:  ['b7', '5', '4c', '1e', '54', 'f', 'c2', '2e', 'e9', '6a', '7f', '75']\n",
      "cypher text1 in 16:  ['78', 'e0', 'bc', 'fc', 'af', 'e6', 'e2', 'dc', '0c', '80', '8e', '87']\n",
      "cypher text1:  xајьЇжвЬ\f",
      "ЂЋ‡\n",
      "cypher text2 in 16:  ['75', 'f7', 'a2', 'ee', 'ba', 'e6', 'e2', 'dc', '0c', '80', '8e', '87']\n",
      "cypher text2:  uчўоєжвЬ\f",
      "ЂЋ‡\n"
     ]
    }
   ],
   "source": [
    "k, t1, et1, t2, et2=encrypt(p1,p2)"
   ]
  },
  {
   "cell_type": "code",
   "execution_count": 20,
   "id": "d79e8922",
   "metadata": {},
   "outputs": [],
   "source": [
    "def decrypt(c1, c2, p1):\n",
    "    print(\"cypher text1: \", c1)\n",
    "    newc1=[]\n",
    "    for i in c1:\n",
    "        newc1.append(i.encode(\"cp1251\").hex())\n",
    "    print(\"cypher text1 in 16: \", newc1)\n",
    "    print(\"cypher text2: \", c2)\n",
    "    newc2=[]\n",
    "    for i in c2:\n",
    "        newc2.append(i.encode(\"cp1251\").hex())\n",
    "    print(\"cypher text2 in 16: \", newc2)\n",
    "    print(\"open text1: \", p1)\n",
    "    newp1=[]\n",
    "    for i in p1:\n",
    "        newp1.append(i.encode(\"cp1251\").hex())\n",
    "    print(\"open text1 in 16: \", newp1)\n",
    "    xortmp=[]\n",
    "    sp2=[]\n",
    "    for i in range(len(p1)):\n",
    "        xortmp.append(\"{:02x}\".format(int(newc1[i],16) ^ int(newc2[i], 16)))\n",
    "        sp2.append(\"{:02x}\".format(int(xortmp[i],16) ^ int(newp1[i], 16)))\n",
    "    print(\"open text2 in 16: \", sp2)\n",
    "    p2=bytearray.fromhex(\"\".join(sp2)).decode(\"cp1251\")\n",
    "    print(\"open text2: \", p2)\n",
    "    return p1, p2"
   ]
  },
  {
   "cell_type": "code",
   "execution_count": 21,
   "id": "4f3f878b",
   "metadata": {},
   "outputs": [
    {
     "name": "stdout",
     "output_type": "stream",
     "text": [
      "cypher text1:  xајьЇжвЬ\f",
      "ЂЋ‡\n",
      "cypher text1 in 16:  ['78', 'e0', 'bc', 'fc', 'af', 'e6', 'e2', 'dc', '0c', '80', '8e', '87']\n",
      "cypher text2:  uчўоєжвЬ\f",
      "ЂЋ‡\n",
      "cypher text2 in 16:  ['75', 'f7', 'a2', 'ee', 'ba', 'e6', 'e2', 'dc', '0c', '80', '8e', '87']\n",
      "open text1:  Первый текст\n",
      "open text1 in 16:  ['cf', 'e5', 'f0', 'e2', 'fb', 'e9', '20', 'f2', 'e5', 'ea', 'f1', 'f2']\n",
      "open text2 in 16:  ['c2', 'f2', 'ee', 'f0', 'ee', 'e9', '20', 'f2', 'e5', 'ea', 'f1', 'f2']\n",
      "open text2:  Второй текст\n"
     ]
    },
    {
     "data": {
      "text/plain": [
       "('Первый текст', 'Второй текст')"
      ]
     },
     "execution_count": 21,
     "metadata": {},
     "output_type": "execute_result"
    }
   ],
   "source": [
    "decrypt(et1, et2, p1)"
   ]
  },
  {
   "cell_type": "code",
   "execution_count": 22,
   "id": "3c1adbb7",
   "metadata": {},
   "outputs": [
    {
     "name": "stdout",
     "output_type": "stream",
     "text": [
      "cypher text1:  uчўоєжвЬ\f",
      "ЂЋ‡\n",
      "cypher text1 in 16:  ['75', 'f7', 'a2', 'ee', 'ba', 'e6', 'e2', 'dc', '0c', '80', '8e', '87']\n",
      "cypher text2:  xајьЇжвЬ\f",
      "ЂЋ‡\n",
      "cypher text2 in 16:  ['78', 'e0', 'bc', 'fc', 'af', 'e6', 'e2', 'dc', '0c', '80', '8e', '87']\n",
      "open text1:  Второй текст\n",
      "open text1 in 16:  ['c2', 'f2', 'ee', 'f0', 'ee', 'e9', '20', 'f2', 'e5', 'ea', 'f1', 'f2']\n",
      "open text2 in 16:  ['cf', 'e5', 'f0', 'e2', 'fb', 'e9', '20', 'f2', 'e5', 'ea', 'f1', 'f2']\n",
      "open text2:  Первый текст\n"
     ]
    },
    {
     "data": {
      "text/plain": [
       "('Второй текст', 'Первый текст')"
      ]
     },
     "execution_count": 22,
     "metadata": {},
     "output_type": "execute_result"
    }
   ],
   "source": [
    "decrypt(et2, et1, p2)"
   ]
  }
 ],
 "metadata": {
  "kernelspec": {
   "display_name": "Python 3",
   "language": "python",
   "name": "python3"
  },
  "language_info": {
   "codemirror_mode": {
    "name": "ipython",
    "version": 3
   },
   "file_extension": ".py",
   "mimetype": "text/x-python",
   "name": "python",
   "nbconvert_exporter": "python",
   "pygments_lexer": "ipython3",
   "version": "3.8.8"
  }
 },
 "nbformat": 4,
 "nbformat_minor": 5
}
